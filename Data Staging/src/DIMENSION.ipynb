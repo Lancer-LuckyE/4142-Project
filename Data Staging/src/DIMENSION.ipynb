{
 "cells": [
  {
   "cell_type": "code",
   "execution_count": 1,
   "metadata": {},
   "outputs": [],
   "source": [
    "import pandas as pd\n",
    "import numpy as np\n",
    "from time import time"
   ]
  },
  {
   "cell_type": "code",
   "execution_count": 2,
   "metadata": {},
   "outputs": [],
   "source": [
    "dfvc_path = '../out/vc.csv'\n",
    "dfdv_path = '../out/dv.csv'\n",
    "event_path = '../data/event_data.csv'"
   ]
  },
  {
   "cell_type": "code",
   "execution_count": 3,
   "metadata": {},
   "outputs": [],
   "source": [
    "df = pd.DataFrame.append(pd.read_csv(dfdv_path), pd.read_csv(dfvc_path), ignore_index=True ,sort=False)"
   ]
  },
  {
   "cell_type": "code",
   "execution_count": 4,
   "metadata": {},
   "outputs": [],
   "source": [
    "# Event dimension\n",
    "parse_dates = ['event_begin_time', 'event_end_time']\n",
    "event_dimension_df = pd.read_csv(event_path, parse_dates=parse_dates)\n",
    "\n",
    "# Give 0 for unknown size\n",
    "event_dimension_df['event_location_size'] = event_dimension_df['event_location_size'].apply(lambda x: 0 if np.isnan(x) else x)"
   ]
  },
  {
   "cell_type": "code",
   "execution_count": 5,
   "metadata": {},
   "outputs": [],
   "source": [
    "date_dimension_df = df[['crime_date', 'day_of_week', 'week_of_year', 'quarter', 'weekend',\n",
    "                        'holiday', 'holiday_name']].drop_duplicates().reset_index(drop=True)\n",
    "date_dimension_df['date_key'] = date_dimension_df.index + 1\n",
    "\n",
    "location_dimension_df = df[['longitude', 'latitude', 'city', 'neighbourhood', 'address',\n",
    "                        'crime_rate']].drop_duplicates().reset_index(drop=True)\n",
    "location_dimension_df['location_key'] = location_dimension_df.index + 1\n",
    "\n",
    "crime_dimension_df = df[['crime_category', 'crime_type', 'first_occurrence_time',\n",
    "                         'last_occurrence_time', 'reported_time',\n",
    "                         'crime_severity']].drop_duplicates().reset_index(drop=True)\n",
    "crime_dimension_df['crime_key'] = crime_dimension_df.index + 1\n",
    "\n",
    "weather_dimension_df = df[['temperature', 'weather_main'\n",
    "                           , 'weather_description', 'humidity']].drop_duplicates().reset_index(drop=True)\n",
    "weather_dimension_df['weather_key'] = weather_dimension_df.index + 1"
   ]
  },
  {
   "cell_type": "code",
   "execution_count": 6,
   "metadata": {},
   "outputs": [],
   "source": [
    "def get_idx_crime_dmsn(crime_category, crime_type, first_occurrence_time, last_occurrence_time, reported_time, crime_severity):\n",
    "    return crime_dimension_df.loc[(crime_dimension_df['crime_category']==crime_category) &\n",
    "                            (crime_dimension_df['crime_type']==crime_type)&\n",
    "                            (crime_dimension_df['first_occurrence_time']==first_occurrence_time)&\n",
    "                            (crime_dimension_df['last_occurrence_time']==last_occurrence_time)&\n",
    "                            (crime_dimension_df['reported_time']==reported_time)&\n",
    "                            (crime_dimension_df['crime_severity']==crime_severity)]['crime_key'].iloc[0]\n",
    "    \n",
    "def get_idx_date_dmsn(crime_date, day_of_week, week_of_year, quarter, weekend, holiday, holiday_name):\n",
    "    return date_dimension_df.loc[(date_dimension_df['crime_date']==crime_date) &\n",
    "                            (date_dimension_df['day_of_week']==day_of_week)&\n",
    "                            (date_dimension_df['week_of_year']==week_of_year)&\n",
    "                            (date_dimension_df['quarter']==quarter)&\n",
    "                            (date_dimension_df['weekend']==weekend)&\n",
    "                            (date_dimension_df['holiday']==holiday)&\n",
    "                            (date_dimension_df['holiday_name']==holiday_name)]['date_key'].iloc[0]\n",
    "    \n",
    "def get_idx_location_dmsn(longitude, latitude, city, neighbourhood, address, crime_rate):\n",
    "    return location_dimension_df.loc[(location_dimension_df['longitude']==longitude) &\n",
    "                            (location_dimension_df['latitude']==latitude)&\n",
    "                            (location_dimension_df['city']==city)&\n",
    "                            (location_dimension_df['neighbourhood']==neighbourhood)&\n",
    "                            (location_dimension_df['address']==address)&\n",
    "                            (location_dimension_df['crime_rate']==crime_rate)]['location_key'].iloc[0]\n",
    "    \n",
    "def get_idx_weather_dmsn(temperature, weather_main, weather_description, humidity):\n",
    "    return weather_dimension_df.loc[(weather_dimension_df['temperature']==temperature) &\n",
    "                            (weather_dimension_df['weather_main']==weather_main)&\n",
    "                            (weather_dimension_df['weather_description']==weather_description)&\n",
    "                            (weather_dimension_df['humidity']==humidity)]['weather_key'].iloc[0]\n",
    "\n",
    "# TODO: time -> date\n",
    "def get_idx_event_dmsn(date, city) -> int:\n",
    "    tmp = event_dimension_df.loc[(event_dimension_df['event_begin_time']<=date)&\n",
    "                                 (event_dimension_df['event_end_time']>=date)&\n",
    "                                 (event_dimension_df['city']==city)]['event_key']\n",
    "    if tmp.size != 0:\n",
    "        return tmp.iloc[0]\n",
    "    else:\n",
    "        return 0"
   ]
  },
  {
   "cell_type": "code",
   "execution_count": null,
   "metadata": {},
   "outputs": [],
   "source": [
    "fact_df = pd.DataFrame()\n",
    "start=time()\n",
    "fact_df['crime_key'] = df.apply(lambda x: \n",
    "               get_idx_crime_dmsn(x.crime_category, x.crime_type, x.first_occurrence_time,\n",
    "                                  x.last_occurrence_time, x.reported_time, x.crime_severity), axis=1)\n",
    "\n",
    "fact_df['date_key'] = df.apply(lambda x: \n",
    "               get_idx_date_dmsn(x.crime_date, x.day_of_week, x.week_of_year,\n",
    "                                 x.quarter, x.weekend, x.holiday, x.holiday_name), axis=1)\n",
    "\n",
    "fact_df['location_key'] = df.apply(lambda x: \n",
    "               get_idx_location_dmsn(x.longitude, x.latitude, x.city, x.neighbourhood, x.address, x.crime_rate), axis=1)\n",
    "\n",
    "fact_df['weather_key'] = df.apply(lambda x: \n",
    "               get_idx_weather_dmsn(x.temperature, x.weather_main, x.weather_description, x.humidity), axis=1)\n",
    "\n",
    "fact_df['event_key'] = df.apply(lambda x: get_idx_event_dmsn(x.crime_date, x.city), axis=1)\n",
    "\n",
    "print('elapsed: %s'%(time()-start))"
   ]
  },
  {
   "cell_type": "code",
   "execution_count": null,
   "metadata": {
    "scrolled": false
   },
   "outputs": [],
   "source": [
    "fact_df.head()"
   ]
  },
  {
   "cell_type": "code",
   "execution_count": null,
   "metadata": {},
   "outputs": [],
   "source": [
    "date_dimension_df.to_csv('../out/date_dimension.csv', index=True)\n",
    "location_dimension_df.to_csv('../out/location_dimension.csv', index=True)\n",
    "crime_dimension_df.to_csv('../out/crime_dimension.csv', index=True)\n",
    "weather_dimension_df.to_csv('../out/weather_dimension.csv', index=True)\n",
    "event_dimension_df.to_csv('../out/event_dimension.csv', index=False)\n",
    "\n",
    "fact_df.index += 1\n",
    "fact_df.to_csv('../out/fact.csv', index=True, index_label='fact_key')"
   ]
  }
 ],
 "metadata": {
  "kernelspec": {
   "display_name": "Python 3",
   "language": "python",
   "name": "python3"
  },
  "language_info": {
   "codemirror_mode": {
    "name": "ipython",
    "version": 3
   },
   "file_extension": ".py",
   "mimetype": "text/x-python",
   "name": "python",
   "nbconvert_exporter": "python",
   "pygments_lexer": "ipython3",
   "version": "3.7.4"
  }
 },
 "nbformat": 4,
 "nbformat_minor": 2
}
