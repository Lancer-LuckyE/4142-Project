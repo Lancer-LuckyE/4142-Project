{
 "cells": [
  {
   "cell_type": "code",
   "execution_count": 1,
   "metadata": {},
   "outputs": [],
   "source": [
    "import pandas as pd\n",
    "import numpy as np\n",
    "from time import time"
   ]
  },
  {
   "cell_type": "code",
   "execution_count": 2,
   "metadata": {},
   "outputs": [],
   "source": [
    "dfvc_path = '../out/vc.csv'\n",
    "dfdv_path = '../out/dv.csv'\n",
    "event_path = '../data/event_data.csv'"
   ]
  },
  {
   "cell_type": "code",
   "execution_count": 3,
   "metadata": {},
   "outputs": [],
   "source": [
    "df = pd.DataFrame.append(pd.read_csv(dfdv_path), pd.read_csv(dfvc_path), ignore_index=True ,sort=False)"
   ]
  },
  {
   "cell_type": "code",
   "execution_count": 4,
   "metadata": {},
   "outputs": [],
   "source": [
    "# Event dimension\n",
    "parse_dates = ['event_begin_time', 'event_end_time']\n",
    "event_dimension_df = pd.read_csv(event_path, parse_dates=parse_dates)\n",
    "\n",
    "# Give 0 for unknown size\n",
    "event_dimension_df['event_location_size'] = event_dimension_df['event_location_size'].apply(lambda x: 0 if np.isnan(x) else x)"
   ]
  },
  {
   "cell_type": "code",
   "execution_count": 5,
   "metadata": {},
   "outputs": [],
   "source": [
    "date_dimension_df = df[['crime_date', 'day_of_week', 'week_of_year', 'quarter', 'weekend',\n",
    "                        'holiday', 'holiday_name']].drop_duplicates().reset_index(drop=True)\n",
    "date_dimension_df['date_key'] = date_dimension_df.index + 1\n",
    "\n",
    "location_dimension_df = df[['longitude', 'latitude', 'city', 'neighbourhood', 'address',\n",
    "                        'crime_rate']].drop_duplicates().reset_index(drop=True)\n",
    "location_dimension_df['location_key'] = location_dimension_df.index + 1\n",
    "\n",
    "crime_dimension_df = df[['crime_category', 'crime_type', 'first_occurrence_time',\n",
    "                         'last_occurrence_time', 'reported_time',\n",
    "                         'crime_severity']].drop_duplicates().reset_index(drop=True)\n",
    "crime_dimension_df['crime_key'] = crime_dimension_df.index + 1\n",
    "\n",
    "weather_dimension_df = df[['temperature', 'weather_main'\n",
    "                           , 'weather_description', 'humidity']].drop_duplicates().reset_index(drop=True)\n",
    "weather_dimension_df['weather_key'] = weather_dimension_df.index + 1"
   ]
  },
  {
   "cell_type": "code",
   "execution_count": 6,
   "metadata": {},
   "outputs": [],
   "source": [
    "# Crime\n",
    "crime_dmsn_dict = {}\n",
    "for ctgr, tp, fot, lot, rt, cs, ckey in zip(crime_dimension_df['crime_category'].to_list(), crime_dimension_df['crime_type'].to_list(),\n",
    "                      crime_dimension_df['first_occurrence_time'].to_list(), crime_dimension_df['last_occurrence_time'].to_list(),\n",
    "                      crime_dimension_df['reported_time'].to_list(), crime_dimension_df['crime_severity'].to_list(),\n",
    "                                        crime_dimension_df['crime_key'].to_list()):\n",
    "    crime_dmsn_dict[(ctgr,tp,fot,lot,rt,cs)] = ckey\n",
    "def get_idx_crime_dmsn(crime_category, crime_type, first_occurrence_time, last_occurrence_time, reported_time, crime_severity):\n",
    "    return crime_dmsn_dict[(crime_category, crime_type, first_occurrence_time,\n",
    "                            last_occurrence_time, reported_time, crime_severity)]\n",
    "\n",
    "# Date\n",
    "date_dmsn_dict = {}\n",
    "for cd, dow, woy, q, w, h, hn, dkey in zip(date_dimension_df['crime_date'].to_list(), \n",
    "                                            date_dimension_df['day_of_week'].to_list(),\n",
    "                                            date_dimension_df['week_of_year'].to_list(), \n",
    "                                            date_dimension_df['quarter'].to_list(),\n",
    "                                            date_dimension_df['weekend'].to_list(), \n",
    "                                            date_dimension_df['holiday'].to_list(),\n",
    "                                            date_dimension_df['holiday_name'].to_list(),\n",
    "                                            date_dimension_df['date_key']):\n",
    "    date_dmsn_dict[(cd, dow, woy, q, w, h, hn)] = dkey\n",
    "def get_idx_date_dmsn(crime_date, day_of_week, week_of_year, quarter, weekend, holiday, holiday_name):\n",
    "    return date_dmsn_dict[(crime_date, day_of_week, week_of_year, quarter, weekend, holiday, holiday_name)]\n",
    "\n",
    "# Location\n",
    "location_dmsn_dict = {}\n",
    "for lo, la, c, n, a, cr, lkey in zip(location_dimension_df['longitude'].to_list(), \n",
    "                                            location_dimension_df['latitude'].to_list(),\n",
    "                                            location_dimension_df['city'].to_list(), \n",
    "                                            location_dimension_df['neighbourhood'].to_list(),\n",
    "                                            location_dimension_df['address'].to_list(), \n",
    "                                            location_dimension_df['crime_rate'].to_list(),\n",
    "                                            location_dimension_df['location_key']):\n",
    "    location_dmsn_dict[(lo, la, c, n, a, cr)] = lkey\n",
    "def get_idx_location_dmsn(longitude, latitude, city, neighbourhood, address, crime_rate):\n",
    "    return location_dmsn_dict[(longitude, latitude, city, neighbourhood, address, crime_rate)]\n",
    "\n",
    "# Weather\n",
    "weather_dmsn_dict = {}\n",
    "for t, wm, wd, h, wkey in zip(weather_dimension_df['temperature'].to_list(), \n",
    "                                            weather_dimension_df['weather_main'].to_list(),\n",
    "                                            weather_dimension_df['weather_description'].to_list(), \n",
    "                                            weather_dimension_df['humidity'].to_list(),\n",
    "                                            weather_dimension_df['weather_key']):\n",
    "    weather_dmsn_dict[(t, wm, wd, h)] = lkey\n",
    "def get_idx_weather_dmsn(temperature, weather_main, weather_description, humidity):\n",
    "    return weather_dmsn_dict[(temperature, weather_main, weather_description, humidity)]\n",
    "\n",
    "\n",
    "# Event\n",
    "# TODO: time -> date\n",
    "def get_idx_event_dmsn(date, city) -> int:\n",
    "    tmp = event_dimension_df.loc[(event_dimension_df['event_begin_date']<=date)&\n",
    "                                 (event_dimension_df['event_end_date']>=date)&\n",
    "                                 (event_dimension_df['city']==city)]['event_key']\n",
    "    if tmp.size != 0:\n",
    "        return tmp.iloc[0]\n",
    "    else:\n",
    "        return 0"
   ]
  },
  {
   "cell_type": "code",
   "execution_count": 7,
   "metadata": {},
   "outputs": [
    {
     "name": "stdout",
     "output_type": "stream",
     "text": [
      "elapsed: 2652.190036058426\n"
     ]
    }
   ],
   "source": [
    "fact_df = pd.DataFrame()\n",
    "start=time()\n",
    "fact_df['crime_key'] = df.apply(lambda x: \n",
    "               get_idx_crime_dmsn(x.crime_category, x.crime_type, x.first_occurrence_time,\n",
    "                                  x.last_occurrence_time, x.reported_time, x.crime_severity), axis=1)\n",
    "\n",
    "fact_df['date_key'] = df.apply(lambda x: \n",
    "               get_idx_date_dmsn(x.crime_date, x.day_of_week, x.week_of_year,\n",
    "                                 x.quarter, x.weekend, x.holiday, x.holiday_name), axis=1)\n",
    "\n",
    "fact_df['location_key'] = df.apply(lambda x: \n",
    "               get_idx_location_dmsn(x.longitude, x.latitude, x.city, x.neighbourhood, x.address, x.crime_rate), axis=1)\n",
    "\n",
    "fact_df['weather_key'] = df.apply(lambda x: \n",
    "               get_idx_weather_dmsn(x.temperature, x.weather_main, x.weather_description, x.humidity), axis=1)\n",
    "\n",
    "fact_df['event_key'] = df.apply(lambda x: get_idx_event_dmsn(x.crime_date, x.city), axis=1)\n",
    "\n",
    "fact_df['is_nighttime'] = df.apply(lambda x: x.is_nighttime, axis=1)\n",
    "fact_df['is_fatal'] = df.apply(lambda x: x.is_fatal, axis=1)\n",
    "fact_df['is_traffic'] = df.apply(lambda x: x.is_traffic, axis=1)\n",
    "\n",
    "\n",
    "print('elapsed: %s'%(time()-start))"
   ]
  },
  {
   "cell_type": "code",
   "execution_count": 8,
   "metadata": {},
   "outputs": [],
   "source": [
    "event_dimension_df.drop(columns=['city'], inplace=True)"
   ]
  },
  {
   "cell_type": "code",
   "execution_count": 9,
   "metadata": {
    "scrolled": false
   },
   "outputs": [
    {
     "data": {
      "text/html": [
       "<div>\n",
       "<style scoped>\n",
       "    .dataframe tbody tr th:only-of-type {\n",
       "        vertical-align: middle;\n",
       "    }\n",
       "\n",
       "    .dataframe tbody tr th {\n",
       "        vertical-align: top;\n",
       "    }\n",
       "\n",
       "    .dataframe thead th {\n",
       "        text-align: right;\n",
       "    }\n",
       "</style>\n",
       "<table border=\"1\" class=\"dataframe\">\n",
       "  <thead>\n",
       "    <tr style=\"text-align: right;\">\n",
       "      <th></th>\n",
       "      <th>crime_key</th>\n",
       "      <th>date_key</th>\n",
       "      <th>location_key</th>\n",
       "      <th>weather_key</th>\n",
       "      <th>event_key</th>\n",
       "      <th>is_nighttime</th>\n",
       "      <th>is_fatal</th>\n",
       "      <th>is_traffic</th>\n",
       "    </tr>\n",
       "  </thead>\n",
       "  <tbody>\n",
       "    <tr>\n",
       "      <td>0</td>\n",
       "      <td>1</td>\n",
       "      <td>1</td>\n",
       "      <td>1</td>\n",
       "      <td>179726</td>\n",
       "      <td>205</td>\n",
       "      <td>True</td>\n",
       "      <td>False</td>\n",
       "      <td>False</td>\n",
       "    </tr>\n",
       "    <tr>\n",
       "      <td>1</td>\n",
       "      <td>2</td>\n",
       "      <td>2</td>\n",
       "      <td>2</td>\n",
       "      <td>179726</td>\n",
       "      <td>0</td>\n",
       "      <td>False</td>\n",
       "      <td>False</td>\n",
       "      <td>False</td>\n",
       "    </tr>\n",
       "    <tr>\n",
       "      <td>2</td>\n",
       "      <td>3</td>\n",
       "      <td>3</td>\n",
       "      <td>3</td>\n",
       "      <td>179726</td>\n",
       "      <td>0</td>\n",
       "      <td>False</td>\n",
       "      <td>False</td>\n",
       "      <td>False</td>\n",
       "    </tr>\n",
       "    <tr>\n",
       "      <td>3</td>\n",
       "      <td>4</td>\n",
       "      <td>4</td>\n",
       "      <td>4</td>\n",
       "      <td>179726</td>\n",
       "      <td>771</td>\n",
       "      <td>False</td>\n",
       "      <td>False</td>\n",
       "      <td>False</td>\n",
       "    </tr>\n",
       "    <tr>\n",
       "      <td>4</td>\n",
       "      <td>5</td>\n",
       "      <td>5</td>\n",
       "      <td>5</td>\n",
       "      <td>179726</td>\n",
       "      <td>567</td>\n",
       "      <td>False</td>\n",
       "      <td>False</td>\n",
       "      <td>False</td>\n",
       "    </tr>\n",
       "  </tbody>\n",
       "</table>\n",
       "</div>"
      ],
      "text/plain": [
       "   crime_key  date_key  location_key  weather_key  event_key  is_nighttime  \\\n",
       "0          1         1             1       179726        205          True   \n",
       "1          2         2             2       179726          0         False   \n",
       "2          3         3             3       179726          0         False   \n",
       "3          4         4             4       179726        771         False   \n",
       "4          5         5             5       179726        567         False   \n",
       "\n",
       "   is_fatal  is_traffic  \n",
       "0     False       False  \n",
       "1     False       False  \n",
       "2     False       False  \n",
       "3     False       False  \n",
       "4     False       False  "
      ]
     },
     "execution_count": 9,
     "metadata": {},
     "output_type": "execute_result"
    }
   ],
   "source": [
    "fact_df.head()"
   ]
  },
  {
   "cell_type": "code",
   "execution_count": 10,
   "metadata": {},
   "outputs": [],
   "source": [
    "date_dimension_df.to_csv('../out/date_dimension.csv', index=False)\n",
    "location_dimension_df.to_csv('../out/location_dimension.csv', index=False)\n",
    "crime_dimension_df.to_csv('../out/crime_dimension.csv', index=False)\n",
    "weather_dimension_df.to_csv('../out/weather_dimension.csv', index=False)\n",
    "event_dimension_df.to_csv('../out/event_dimension.csv', index=False)\n",
    "\n",
    "fact_df.to_csv('../out/fact.csv', index=False)"
   ]
  }
 ],
 "metadata": {
  "kernelspec": {
   "display_name": "Python 3",
   "language": "python",
   "name": "python3"
  },
  "language_info": {
   "codemirror_mode": {
    "name": "ipython",
    "version": 3
   },
   "file_extension": ".py",
   "mimetype": "text/x-python",
   "name": "python",
   "nbconvert_exporter": "python",
   "pygments_lexer": "ipython3",
   "version": "3.7.4"
  }
 },
 "nbformat": 4,
 "nbformat_minor": 2
}
