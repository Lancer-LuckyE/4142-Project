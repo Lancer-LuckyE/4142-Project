{
 "cells": [
  {
   "cell_type": "code",
   "execution_count": 1,
   "metadata": {},
   "outputs": [],
   "source": [
    "import pandas as pd\n",
    "from sqlalchemy import create_engine"
   ]
  },
  {
   "cell_type": "code",
   "execution_count": 2,
   "metadata": {},
   "outputs": [],
   "source": [
    "engine = create_engine('postgresql://yliu359:PASSWORD@X@www.eecs.uottawa.ca:15432/group_21')"
   ]
  },
  {
   "cell_type": "code",
   "execution_count": 3,
   "metadata": {},
   "outputs": [],
   "source": [
    "event = '../out/event_dimension.csv'\n",
    "crime = '../out/crime_dimension.csv'\n",
    "date = '../out/date_dimension.csv'\n",
    "weather = '../out/weather_dimension.csv'\n",
    "location = '../out/location_dimension.csv'\n",
    "fact = '../out/fact.csv'\n",
    "\n",
    "event_df = pd.read_csv(event)\n",
    "crime_df = pd.read_csv(crime)\n",
    "date_df = pd.read_csv(date)\n",
    "weather_df = pd.read_csv(weather)\n",
    "location_df = pd.read_csv(location)\n",
    "fact_df = pd.read_csv(fact)"
   ]
  },
  {
   "cell_type": "code",
   "execution_count": 4,
   "metadata": {},
   "outputs": [],
   "source": [
    "def insert(df: pd.DataFrame, name: str):\n",
    "    df.to_sql(schema='crime_data_mart',name=name, con=engine, if_exists='append', index=False, method='multi')"
   ]
  },
  {
   "cell_type": "code",
   "execution_count": 5,
   "metadata": {},
   "outputs": [],
   "source": [
    "insert(event_df, 'event')"
   ]
  },
  {
   "cell_type": "code",
   "execution_count": null,
   "metadata": {},
   "outputs": [],
   "source": [
    "insert(crime_df, 'crime')"
   ]
  },
  {
   "cell_type": "code",
   "execution_count": null,
   "metadata": {},
   "outputs": [],
   "source": [
    "insert(date_df, 'date')"
   ]
  },
  {
   "cell_type": "code",
   "execution_count": null,
   "metadata": {},
   "outputs": [],
   "source": [
    "insert(weather_df, 'weather')"
   ]
  },
  {
   "cell_type": "code",
   "execution_count": null,
   "metadata": {},
   "outputs": [],
   "source": [
    "insert(location_df, 'location')"
   ]
  },
  {
   "cell_type": "code",
   "execution_count": null,
   "metadata": {
    "scrolled": true
   },
   "outputs": [],
   "source": [
    "insert(fact_df, 'crimefact')"
   ]
  }
 ],
 "metadata": {
  "kernelspec": {
   "display_name": "Python 3",
   "language": "python",
   "name": "python3"
  },
  "language_info": {
   "codemirror_mode": {
    "name": "ipython",
    "version": 3
   },
   "file_extension": ".py",
   "mimetype": "text/x-python",
   "name": "python",
   "nbconvert_exporter": "python",
   "pygments_lexer": "ipython3",
   "version": "3.7.4"
  }
 },
 "nbformat": 4,
 "nbformat_minor": 2
}
