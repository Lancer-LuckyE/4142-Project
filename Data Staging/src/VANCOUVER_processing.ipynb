{
 "cells": [
  {
   "cell_type": "code",
   "execution_count": null,
   "metadata": {},
   "outputs": [],
   "source": [
    "import pandas as pd\n",
    "import numpy as np\n",
    "import holidays\n",
    "import json\n",
    "import utm\n",
    "from time import time"
   ]
  },
  {
   "cell_type": "code",
   "execution_count": null,
   "metadata": {},
   "outputs": [],
   "source": [
    "ca_holidays = holidays.CA()\n",
    "def xy_2_lonlat(x, y):\n",
    "    return utm.to_latlon(x, y, 10, 'U')"
   ]
  },
  {
   "cell_type": "code",
   "execution_count": null,
   "metadata": {},
   "outputs": [],
   "source": [
    "vc = '../data/van_crime.csv'\n",
    "weather = '../data/selected_weather_data.csv'\n",
    "vc_json = '../data/van_related.json'"
   ]
  },
  {
   "cell_type": "code",
   "execution_count": null,
   "metadata": {},
   "outputs": [],
   "source": [
    "dvvc = pd.read_csv(vc)\n",
    "dvvc.columns = map(str.lower, dvvc.columns)\n",
    "dvvc.rename(columns={'type': 'original_crime_type'}, inplace=True)"
   ]
  },
  {
   "cell_type": "code",
   "execution_count": null,
   "metadata": {},
   "outputs": [],
   "source": [
    "# Take subset between 2015 and 2020\n",
    "idx = dvvc.index[(dvvc['year'] >=2015) & (dvvc['year'] <= 2020)]\n",
    "dvvc = dvvc.iloc[idx]"
   ]
  },
  {
   "cell_type": "code",
   "execution_count": null,
   "metadata": {},
   "outputs": [],
   "source": [
    "# Mapping crime category/type\n",
    "with open(vc_json) as f:\n",
    "    vc_dict = json.load(f)\n",
    "_type_mapping_dict = vc_dict['type-mapping']\n",
    "\n",
    "dvvc['crime_category'] = dvvc['original_crime_type'].apply(lambda x: _type_mapping_dict[x][0])\n",
    "dvvc['crime_type'] = dvvc['original_crime_type'].apply(lambda x: _type_mapping_dict[x][1])\n",
    "dvvc.drop(columns=['original_crime_type'], inplace=True)"
   ]
  },
  {
   "cell_type": "code",
   "execution_count": null,
   "metadata": {},
   "outputs": [],
   "source": [
    "# City\n",
    "dvvc['city'] = 'Vancouver'"
   ]
  },
  {
   "cell_type": "code",
   "execution_count": null,
   "metadata": {},
   "outputs": [],
   "source": [
    "# Hundred block -> address\n",
    "dvvc.rename({'hundred_block': 'address'}, axis=1, inplace=True)"
   ]
  },
  {
   "cell_type": "code",
   "execution_count": null,
   "metadata": {
    "scrolled": true
   },
   "outputs": [],
   "source": [
    "# X, Y -> longitude, latitude\n",
    "start = time()\n",
    "dvvc['tmp'] = dvvc[['x','y']].apply(lambda e: xy_2_lonlat(e.x, e.y) if (100000<=e.x<=999999 and 0<=e.y<=10000000) else (0, 0), axis=1)\n",
    "dvvc[['longitude', 'latitude']] = pd.DataFrame(dvvc['tmp'].tolist())\n",
    "dvvc.drop(columns=['tmp', 'x', 'y'], inplace=True)\n",
    "\n",
    "dvvc['longitude'] = dvvc['longitude'].apply(lambda x: x if not np.isnan(x) else 0)\n",
    "dvvc['latitude'] = dvvc['latitude'].apply(lambda x: x if not np.isnan(x) else 0)\n",
    "print('Time elapsed: %s' % (time()-start))"
   ]
  },
  {
   "cell_type": "code",
   "execution_count": null,
   "metadata": {},
   "outputs": [],
   "source": [
    "dvvc['reported_datetime'] = pd.to_datetime(dvvc[['year', 'month', 'day', 'hour', 'minute']])"
   ]
  },
  {
   "cell_type": "code",
   "execution_count": null,
   "metadata": {},
   "outputs": [],
   "source": [
    "# Weather\n",
    "weather_df = pd.read_csv(weather, parse_dates = ['datetime'])\n",
    "dvvc['tmp'] = pd.DatetimeIndex(dvvc['reported_datetime']).round('H')\n",
    "dvvc['city']= 'Vancouver'\n",
    "dvvc = dvvc.merge(weather_df, left_on=['city', 'tmp'], right_on =['city_name', 'datetime'],how='left')\n",
    "dvvc.drop(columns=['tmp', 'datetime', 'city_name'], inplace=True)"
   ]
  },
  {
   "cell_type": "code",
   "execution_count": null,
   "metadata": {},
   "outputs": [],
   "source": [
    "# Crime rate\n",
    "# 651416 is the average population from 2014 to 2017\n",
    "dvvc['crime_rate'] = (len(dvvc) / len(dvvc['year'].unique())) * (10000 / 651416)"
   ]
  },
  {
   "cell_type": "code",
   "execution_count": null,
   "metadata": {},
   "outputs": [],
   "source": [
    "dvvc['crime_date'] = pd.DatetimeIndex(dvvc['reported_datetime']).date\n",
    "dvvc['day_of_week'] = pd.DatetimeIndex(dvvc['reported_datetime']).dayofweek\n",
    "dvvc['week_of_year'] = pd.DatetimeIndex(dvvc['reported_datetime']).week\n",
    "dvvc['quarter'] = pd.DatetimeIndex(dvvc['reported_datetime']).quarter\n",
    "\n",
    "# Weekend, holiday\n",
    "weekend = pd.DataFrame({'day_of_week':[0,1,2,3,4,5,6],'weekend':[False,False,False,False,False,True,True]})\n",
    "dvvc = dvvc.merge(weekend, how='left', left_on=['day_of_week'], right_on = ['day_of_week'])\n",
    "dvvc['holiday'] = dvvc['crime_date'].apply(lambda x: ca_holidays.get(x) is not None)\n",
    "dvvc['holiday_name'] = dvvc['crime_date'].apply(lambda x: 'NOT APPLICABLE' if ca_holidays.get(x) is None else ca_holidays.get(x))"
   ]
  },
  {
   "cell_type": "code",
   "execution_count": null,
   "metadata": {
    "scrolled": true
   },
   "outputs": [],
   "source": [
    "# Crime severity index\n",
    "_violent_crime_lst = vc_dict['violent-crime']\n",
    "\n",
    "dvvc['crime_severity_c'] = dvvc['crime_category'].apply(lambda x: True if x in _violent_crime_lst else False)\n",
    "dvvc['crime_severity_t'] = dvvc['crime_type'].apply(lambda x: True if x in _violent_crime_lst else False)\n",
    "dvvc['crime_severity'] = dvvc.crime_severity_c | dvvc.crime_severity_t\n",
    "dvvc.drop(columns=['crime_severity_t', 'crime_severity_c'], inplace=True)\n",
    "dvvc['crime_severity'].replace([True, False], ['violent', 'non-violent'], inplace = True)"
   ]
  },
  {
   "cell_type": "code",
   "execution_count": null,
   "metadata": {},
   "outputs": [],
   "source": [
    "# is nighttime\n",
    "dvvc['is_nighttime'] = dvvc['hour']\n",
    "dvvc['is_nighttime'] = dvvc['is_nighttime'].apply(lambda x: True if x >= 21 or x<=5 else False)"
   ]
  },
  {
   "cell_type": "code",
   "execution_count": null,
   "metadata": {},
   "outputs": [],
   "source": [
    "# is fatal\n",
    "_fatal_crime_lst = vc_dict['fatal-crime']\n",
    "\n",
    "dvvc['is_fatal_c'] = dvvc['crime_category'].apply(lambda x: True if x in _fatal_crime_lst else False)\n",
    "dvvc['is_fatal_t'] = dvvc['crime_type'].apply(lambda x: True if x in _fatal_crime_lst else False)\n",
    "dvvc['is_fatal'] = dvvc.is_fatal_c | dvvc.is_fatal_t\n",
    "dvvc.drop(columns=['is_fatal_c', 'is_fatal_t'], inplace=True)"
   ]
  },
  {
   "cell_type": "code",
   "execution_count": null,
   "metadata": {},
   "outputs": [],
   "source": [
    "# is traffic\n",
    "dvvc['is_traffic'] = dvvc['crime_category'].apply(lambda x: True if x == 'traffic-accident' else False)"
   ]
  },
  {
   "cell_type": "code",
   "execution_count": null,
   "metadata": {},
   "outputs": [],
   "source": [
    "# Drop useless cols\n",
    "dvvc.drop(columns=['year', 'month', 'day', 'hour', 'minute'], inplace=True)"
   ]
  },
  {
   "cell_type": "code",
   "execution_count": null,
   "metadata": {},
   "outputs": [],
   "source": [
    "# reported_datetime -> report_date, report_time\n",
    "dvvc['reported_date'] = pd.DatetimeIndex(dvvc['reported_datetime']).round('D')\n",
    "dvvc['reported_time'] = pd.DatetimeIndex(dvvc['reported_datetime']).time\n",
    "dvvc.drop(columns=['reported_datetime'], inplace=True)"
   ]
  },
  {
   "cell_type": "code",
   "execution_count": null,
   "metadata": {},
   "outputs": [],
   "source": [
    "# Empty first_occurrence_date/time, last_occurrence_date/time\n",
    "empty_date = pd.to_datetime(['1970-01-01'] * len(dvvc.index))\n",
    "empty_time = pd.DatetimeIndex(pd.to_datetime(['1970-01-01 00:00:00'] * len(dvvc.index))).time\n",
    "dvvc['first_occurrence_date'] = empty_date\n",
    "dvvc['first_occurrence_time'] = empty_time\n",
    "\n",
    "dvvc['last_occurrence_date'] = empty_date\n",
    "dvvc['last_occurrence_time'] = empty_time"
   ]
  },
  {
   "cell_type": "code",
   "execution_count": null,
   "metadata": {
    "scrolled": false
   },
   "outputs": [],
   "source": [
    "dvvc.head()"
   ]
  },
  {
   "cell_type": "code",
   "execution_count": null,
   "metadata": {
    "scrolled": true
   },
   "outputs": [],
   "source": [
    "dvvc.columns"
   ]
  },
  {
   "cell_type": "code",
   "execution_count": null,
   "metadata": {},
   "outputs": [],
   "source": [
    "dvvc.to_csv('../out/'+'vc.csv', index=False)"
   ]
  }
 ],
 "metadata": {
  "kernelspec": {
   "display_name": "Python 3",
   "language": "python",
   "name": "python3"
  },
  "language_info": {
   "codemirror_mode": {
    "name": "ipython",
    "version": 3
   },
   "file_extension": ".py",
   "mimetype": "text/x-python",
   "name": "python",
   "nbconvert_exporter": "python",
   "pygments_lexer": "ipython3",
   "version": "3.7.4"
  }
 },
 "nbformat": 4,
 "nbformat_minor": 2
}
