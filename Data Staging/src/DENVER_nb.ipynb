{
 "cells": [
  {
   "cell_type": "code",
   "execution_count": 1,
   "metadata": {},
   "outputs": [],
   "source": [
    "import pandas as pd\n",
    "import holidays\n",
    "import json\n",
    "us_holidays = holidays.US()"
   ]
  },
  {
   "cell_type": "code",
   "execution_count": 2,
   "metadata": {},
   "outputs": [],
   "source": [
    "dv = '../data/denver_crime.csv'\n",
    "weather = '../data/selected_weather_data.csv'\n",
    "event = '../data/event_data.csv'\n",
    "dv_json = '../data/denver_related.json'"
   ]
  },
  {
   "cell_type": "code",
   "execution_count": 3,
   "metadata": {},
   "outputs": [],
   "source": [
    "parse_dates = ['FIRST_OCCURRENCE_DATE', 'LAST_OCCURRENCE_DATE', 'REPORTED_DATE']\n",
    "useful_cols =['OFFENSE_TYPE_ID','OFFENSE_CATEGORY_ID', 'FIRST_OCCURRENCE_DATE', 'LAST_OCCURRENCE_DATE', 'REPORTED_DATE', \n",
    "            'INCIDENT_ADDRESS','GEO_LON','GEO_LAT', 'NEIGHBORHOOD_ID', 'IS_TRAFFIC']\n",
    "dvdf = pd.read_csv(dv, parse_dates=parse_dates, usecols=useful_cols,nrows=100)\n",
    "\n",
    "dvdf.columns = map(str.lower, dvdf.columns)\n",
    "dvdf.rename(columns={\"offense_type_id\": \"crime_type\", \"offense_category_id\": \"crime_category\"}, inplace=True)"
   ]
  },
  {
   "cell_type": "code",
   "execution_count": 4,
   "metadata": {},
   "outputs": [],
   "source": [
    "weather_df = pd.read_csv(weather, parse_dates = ['datetime'])"
   ]
  },
  {
   "cell_type": "code",
   "execution_count": 5,
   "metadata": {},
   "outputs": [],
   "source": [
    "dvdf['tmp'] = pd.DatetimeIndex(dvdf['first_occurrence_date']).round('H')\n",
    "dvdf['city']= 'Denver'\n",
    "dvdf = dvdf.merge(weather_df, left_on=['city', 'tmp'], right_on =['city_name', 'datetime'],how='left')\n",
    "dvdf.drop(columns=['tmp', 'datetime', 'city_name'], inplace=True)"
   ]
  },
  {
   "cell_type": "code",
   "execution_count": 6,
   "metadata": {},
   "outputs": [],
   "source": [
    "# Crime rate\n",
    "dvdf['crime_rate'] = (len(dvdf.index) / 6) * (10000 / 2723000)"
   ]
  },
  {
   "cell_type": "code",
   "execution_count": 7,
   "metadata": {},
   "outputs": [
    {
     "data": {
      "text/html": [
       "<div>\n",
       "<style scoped>\n",
       "    .dataframe tbody tr th:only-of-type {\n",
       "        vertical-align: middle;\n",
       "    }\n",
       "\n",
       "    .dataframe tbody tr th {\n",
       "        vertical-align: top;\n",
       "    }\n",
       "\n",
       "    .dataframe thead th {\n",
       "        text-align: right;\n",
       "    }\n",
       "</style>\n",
       "<table border=\"1\" class=\"dataframe\">\n",
       "  <thead>\n",
       "    <tr style=\"text-align: right;\">\n",
       "      <th></th>\n",
       "      <th>crime_type</th>\n",
       "      <th>crime_category</th>\n",
       "      <th>first_occurrence_date</th>\n",
       "      <th>last_occurrence_date</th>\n",
       "      <th>reported_date</th>\n",
       "      <th>incident_address</th>\n",
       "      <th>geo_lon</th>\n",
       "      <th>geo_lat</th>\n",
       "      <th>neighborhood_id</th>\n",
       "      <th>is_traffic</th>\n",
       "      <th>city</th>\n",
       "      <th>temperature</th>\n",
       "      <th>humidity</th>\n",
       "      <th>weather_main</th>\n",
       "      <th>weather_description</th>\n",
       "      <th>crime_rate</th>\n",
       "    </tr>\n",
       "  </thead>\n",
       "  <tbody>\n",
       "    <tr>\n",
       "      <td>0</td>\n",
       "      <td>weapon-unlawful-discharge-of</td>\n",
       "      <td>all-other-crimes</td>\n",
       "      <td>2016-06-15 23:31:00</td>\n",
       "      <td>NaT</td>\n",
       "      <td>2016-06-15 23:31:00</td>\n",
       "      <td>NaN</td>\n",
       "      <td>-104.809881</td>\n",
       "      <td>39.773188</td>\n",
       "      <td>montbello</td>\n",
       "      <td>0</td>\n",
       "      <td>Denver</td>\n",
       "      <td>32.05</td>\n",
       "      <td>18</td>\n",
       "      <td>Clouds</td>\n",
       "      <td>few clouds</td>\n",
       "      <td>0.062431</td>\n",
       "    </tr>\n",
       "    <tr>\n",
       "      <td>1</td>\n",
       "      <td>theft-other</td>\n",
       "      <td>larceny</td>\n",
       "      <td>2017-10-11 12:30:00</td>\n",
       "      <td>2017-10-11 16:55:00</td>\n",
       "      <td>2018-01-29 17:53:00</td>\n",
       "      <td>NaN</td>\n",
       "      <td>-104.781434</td>\n",
       "      <td>39.785649</td>\n",
       "      <td>gateway-green-valley-ranch</td>\n",
       "      <td>0</td>\n",
       "      <td>Denver</td>\n",
       "      <td>4.87</td>\n",
       "      <td>55</td>\n",
       "      <td>Clear</td>\n",
       "      <td>sky is clear</td>\n",
       "      <td>0.062431</td>\n",
       "    </tr>\n",
       "    <tr>\n",
       "      <td>2</td>\n",
       "      <td>theft-items-from-vehicle</td>\n",
       "      <td>theft-from-motor-vehicle</td>\n",
       "      <td>2016-03-04 20:00:00</td>\n",
       "      <td>2016-04-25 08:00:00</td>\n",
       "      <td>2016-04-26 21:02:00</td>\n",
       "      <td>2932 S JOSEPHINE ST</td>\n",
       "      <td>-104.957381</td>\n",
       "      <td>39.663490</td>\n",
       "      <td>wellshire</td>\n",
       "      <td>0</td>\n",
       "      <td>Denver</td>\n",
       "      <td>13.28</td>\n",
       "      <td>28</td>\n",
       "      <td>Clouds</td>\n",
       "      <td>broken clouds</td>\n",
       "      <td>0.062431</td>\n",
       "    </tr>\n",
       "    <tr>\n",
       "      <td>3</td>\n",
       "      <td>theft-other</td>\n",
       "      <td>larceny</td>\n",
       "      <td>2018-01-30 19:20:00</td>\n",
       "      <td>NaT</td>\n",
       "      <td>2018-01-30 22:29:00</td>\n",
       "      <td>705 S COLORADO BLVD</td>\n",
       "      <td>-104.941440</td>\n",
       "      <td>39.702698</td>\n",
       "      <td>belcaro</td>\n",
       "      <td>0</td>\n",
       "      <td>Denver</td>\n",
       "      <td>14.38</td>\n",
       "      <td>14</td>\n",
       "      <td>Clouds</td>\n",
       "      <td>broken clouds</td>\n",
       "      <td>0.062431</td>\n",
       "    </tr>\n",
       "    <tr>\n",
       "      <td>4</td>\n",
       "      <td>theft-shoplift</td>\n",
       "      <td>larceny</td>\n",
       "      <td>2017-06-22 20:53:00</td>\n",
       "      <td>NaT</td>\n",
       "      <td>2017-06-23 16:09:00</td>\n",
       "      <td>2810 E 1ST AVE</td>\n",
       "      <td>-104.955370</td>\n",
       "      <td>39.717107</td>\n",
       "      <td>cherry-creek</td>\n",
       "      <td>0</td>\n",
       "      <td>Denver</td>\n",
       "      <td>26.59</td>\n",
       "      <td>30</td>\n",
       "      <td>Clouds</td>\n",
       "      <td>broken clouds</td>\n",
       "      <td>0.062431</td>\n",
       "    </tr>\n",
       "  </tbody>\n",
       "</table>\n",
       "</div>"
      ],
      "text/plain": [
       "                     crime_type            crime_category  \\\n",
       "0  weapon-unlawful-discharge-of          all-other-crimes   \n",
       "1                   theft-other                   larceny   \n",
       "2      theft-items-from-vehicle  theft-from-motor-vehicle   \n",
       "3                   theft-other                   larceny   \n",
       "4                theft-shoplift                   larceny   \n",
       "\n",
       "  first_occurrence_date last_occurrence_date       reported_date  \\\n",
       "0   2016-06-15 23:31:00                  NaT 2016-06-15 23:31:00   \n",
       "1   2017-10-11 12:30:00  2017-10-11 16:55:00 2018-01-29 17:53:00   \n",
       "2   2016-03-04 20:00:00  2016-04-25 08:00:00 2016-04-26 21:02:00   \n",
       "3   2018-01-30 19:20:00                  NaT 2018-01-30 22:29:00   \n",
       "4   2017-06-22 20:53:00                  NaT 2017-06-23 16:09:00   \n",
       "\n",
       "      incident_address     geo_lon    geo_lat             neighborhood_id  \\\n",
       "0                  NaN -104.809881  39.773188                   montbello   \n",
       "1                  NaN -104.781434  39.785649  gateway-green-valley-ranch   \n",
       "2  2932 S JOSEPHINE ST -104.957381  39.663490                   wellshire   \n",
       "3  705 S COLORADO BLVD -104.941440  39.702698                     belcaro   \n",
       "4       2810 E 1ST AVE -104.955370  39.717107                cherry-creek   \n",
       "\n",
       "   is_traffic    city  temperature  humidity weather_main weather_description  \\\n",
       "0           0  Denver        32.05        18       Clouds          few clouds   \n",
       "1           0  Denver         4.87        55        Clear        sky is clear   \n",
       "2           0  Denver        13.28        28       Clouds       broken clouds   \n",
       "3           0  Denver        14.38        14       Clouds       broken clouds   \n",
       "4           0  Denver        26.59        30       Clouds       broken clouds   \n",
       "\n",
       "   crime_rate  \n",
       "0    0.062431  \n",
       "1    0.062431  \n",
       "2    0.062431  \n",
       "3    0.062431  \n",
       "4    0.062431  "
      ]
     },
     "execution_count": 7,
     "metadata": {},
     "output_type": "execute_result"
    }
   ],
   "source": [
    "dvdf.head()"
   ]
  },
  {
   "cell_type": "code",
   "execution_count": 8,
   "metadata": {
    "scrolled": true
   },
   "outputs": [
    {
     "data": {
      "text/plain": [
       "Index(['crime_type', 'crime_category', 'first_occurrence_date',\n",
       "       'last_occurrence_date', 'reported_date', 'incident_address', 'geo_lon',\n",
       "       'geo_lat', 'neighborhood_id', 'is_traffic', 'city', 'temperature',\n",
       "       'humidity', 'weather_main', 'weather_description', 'crime_rate'],\n",
       "      dtype='object')"
      ]
     },
     "execution_count": 8,
     "metadata": {},
     "output_type": "execute_result"
    }
   ],
   "source": [
    "dvdf.columns"
   ]
  },
  {
   "cell_type": "code",
   "execution_count": 9,
   "metadata": {},
   "outputs": [],
   "source": [
    "dvdf['crime_date'] = pd.DatetimeIndex(dvdf['first_occurrence_date']).date\n",
    "dvdf['day_of_week'] = pd.DatetimeIndex(dvdf['first_occurrence_date']).dayofweek\n",
    "dvdf['week_of_year'] = pd.DatetimeIndex(dvdf['first_occurrence_date']).week\n",
    "dvdf['quarter'] = pd.DatetimeIndex(dvdf['first_occurrence_date']).quarter\n",
    "\n",
    "# holiday\n",
    "weekend = pd.DataFrame({'day_of_week':[0,1,2,3,4,5,6],'weekend':[0,0,0,0,0,1,1]})\n",
    "dvdf = dvdf.merge(weekend, how='left', left_on=['day_of_week'], right_on = ['day_of_week'])\n",
    "dvdf['holiday'] = dvdf['crime_date'].apply(lambda x: us_holidays.get(x) is not None)\n",
    "dvdf['holiday_name'] = dvdf['crime_date'].apply(lambda x: us_holidays.get(x))"
   ]
  },
  {
   "cell_type": "code",
   "execution_count": 10,
   "metadata": {
    "scrolled": true
   },
   "outputs": [],
   "source": [
    "# crime severity index\n",
    "with open(dv_json) as f:\n",
    "    dv_dict = json.load(f)\n",
    "\n",
    "dvdf['crime_severity_c'] = dvdf['crime_category'].apply(lambda x: True if x in dv_dict['violent-crime'] else False)\n",
    "dvdf['crime_severity_t'] = dvdf['crime_type'].apply(lambda x: True if x in dv_dict['violent-crime'] else False)\n",
    "dvdf['crime_severity'] = dvdf.crime_severity_c | dvdf.crime_severity_t\n",
    "dvdf.drop(columns=['crime_severity_t', 'crime_severity_c'], inplace=True)\n",
    "dvdf['crime_severity'].replace([True, False], ['violent', 'non-violent'], inplace = True)"
   ]
  },
  {
   "cell_type": "code",
   "execution_count": 11,
   "metadata": {},
   "outputs": [],
   "source": [
    "# is nighttime\n",
    "dvdf['is_nighttime'] = pd.DatetimeIndex(dvdf['first_occurrence_date']).hour\n",
    "dvdf['is_nighttime'] = dvdf['is_nighttime'].apply(lambda x: True if x >= 21 or x<=5 else False)"
   ]
  },
  {
   "cell_type": "code",
   "execution_count": 12,
   "metadata": {},
   "outputs": [],
   "source": [
    "# is fatal\n",
    "dvdf['is_fatal_c'] = dvdf['crime_category'].apply(lambda x: True if x in dv_dict['fatal-crime'] else False)\n",
    "dvdf['is_fatal_t'] = dvdf['crime_type'].apply(lambda x: True if x in dv_dict['fatal-crime'] else False)\n",
    "dvdf['is_fatal'] = dvdf.is_fatal_c | dvdf.is_fatal_t\n",
    "dvdf.drop(columns=['is_fatal_c', 'is_fatal_t'], inplace=True)"
   ]
  },
  {
   "cell_type": "code",
   "execution_count": null,
   "metadata": {},
   "outputs": [],
   "source": [
    "def out(path:str, df:pd.DataFrame):\n",
    "    df.to_csv(path)"
   ]
  }
 ],
 "metadata": {
  "kernelspec": {
   "display_name": "Python 3",
   "language": "python",
   "name": "python3"
  },
  "language_info": {
   "codemirror_mode": {
    "name": "ipython",
    "version": 3
   },
   "file_extension": ".py",
   "mimetype": "text/x-python",
   "name": "python",
   "nbconvert_exporter": "python",
   "pygments_lexer": "ipython3",
   "version": "3.7.4"
  }
 },
 "nbformat": 4,
 "nbformat_minor": 2
}
