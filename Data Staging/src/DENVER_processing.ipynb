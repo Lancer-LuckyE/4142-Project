{
 "cells": [
  {
   "cell_type": "code",
   "execution_count": null,
   "metadata": {},
   "outputs": [],
   "source": [
    "import pandas as pd\n",
    "import numpy as np\n",
    "import holidays\n",
    "import json"
   ]
  },
  {
   "cell_type": "code",
   "execution_count": null,
   "metadata": {},
   "outputs": [],
   "source": [
    "us_holidays = holidays.US()"
   ]
  },
  {
   "cell_type": "code",
   "execution_count": null,
   "metadata": {},
   "outputs": [],
   "source": [
    "dv = '../data/denver_crime.csv'\n",
    "weather = '../data/selected_weather_data.csv'\n",
    "dv_json = '../data/denver_related.json'"
   ]
  },
  {
   "cell_type": "code",
   "execution_count": null,
   "metadata": {},
   "outputs": [],
   "source": [
    "parse_dates = ['FIRST_OCCURRENCE_DATE', 'LAST_OCCURRENCE_DATE', 'REPORTED_DATE']\n",
    "useful_cols =['OFFENSE_TYPE_ID','OFFENSE_CATEGORY_ID', 'FIRST_OCCURRENCE_DATE', 'LAST_OCCURRENCE_DATE', 'REPORTED_DATE', \n",
    "            'INCIDENT_ADDRESS','GEO_LON','GEO_LAT', 'NEIGHBORHOOD_ID', 'IS_TRAFFIC']\n",
    "dvdf = pd.read_csv(dv, parse_dates=parse_dates, usecols=useful_cols)\n",
    "\n",
    "dvdf.columns = map(str.lower, dvdf.columns)\n",
    "dvdf.rename(columns={\"offense_type_id\": \"crime_type\", \"offense_category_id\": \"crime_category\",\n",
    "                    'geo_lon': 'longitude', 'geo_lat': 'latitude',\n",
    "                    'neighborhood_id': 'neighbourhood',\n",
    "                    'incident_address': 'address'}, inplace=True)"
   ]
  },
  {
   "cell_type": "code",
   "execution_count": null,
   "metadata": {
    "scrolled": false
   },
   "outputs": [],
   "source": [
    "# Dealing with empty address\n",
    "dvdf['address'] = dvdf['address'].apply(lambda x: x if x is not np.nan else 'NOT APPLICABLE')"
   ]
  },
  {
   "cell_type": "code",
   "execution_count": null,
   "metadata": {},
   "outputs": [],
   "source": [
    "# Empty lat/lon\n",
    "dvdf['latitude'] = dvdf['latitude'].apply(lambda x: x if not np.isnan(x) else 0)\n",
    "dvdf['longitude'] = dvdf['longitude'].apply(lambda x: x if not np.isnan(x) else 0)"
   ]
  },
  {
   "cell_type": "code",
   "execution_count": null,
   "metadata": {},
   "outputs": [],
   "source": [
    "# Weather\n",
    "weather_df = pd.read_csv(weather, parse_dates = ['datetime'])\n",
    "dvdf['tmp'] = pd.DatetimeIndex(dvdf['first_occurrence_date']).round('H')\n",
    "dvdf['city']= 'Denver'\n",
    "dvdf = dvdf.merge(weather_df, left_on=['city', 'tmp'], right_on =['city_name', 'datetime'], how='left')\n",
    "dvdf.drop(columns=['tmp', 'datetime', 'city_name'], inplace=True)"
   ]
  },
  {
   "cell_type": "code",
   "execution_count": null,
   "metadata": {},
   "outputs": [],
   "source": [
    "# Crime rate\n",
    "# 2723000 is the average population from 2015 to 2020\n",
    "dvdf['crime_rate'] = (len(dvdf.index) / 6) * (10000 / 2723000)"
   ]
  },
  {
   "cell_type": "code",
   "execution_count": null,
   "metadata": {},
   "outputs": [],
   "source": [
    "dvdf['crime_date'] = pd.DatetimeIndex(dvdf['first_occurrence_date']).date\n",
    "dvdf['day_of_week'] = pd.DatetimeIndex(dvdf['first_occurrence_date']).dayofweek\n",
    "dvdf['week_of_year'] = pd.DatetimeIndex(dvdf['first_occurrence_date']).week\n",
    "dvdf['quarter'] = pd.DatetimeIndex(dvdf['first_occurrence_date']).quarter\n",
    "\n",
    "# holiday\n",
    "weekend = pd.DataFrame({'day_of_week':[0,1,2,3,4,5,6],'weekend':[False,False,False,False,False,True,True]})\n",
    "dvdf = dvdf.merge(weekend, how='left', left_on=['day_of_week'], right_on = ['day_of_week'])\n",
    "dvdf['holiday'] = dvdf['crime_date'].apply(lambda x: us_holidays.get(x) is not None)\n",
    "dvdf['holiday_name'] = dvdf['crime_date'].apply(lambda x: 'NOT APPLICABLE' if us_holidays.get(x) is None else us_holidays.get(x))"
   ]
  },
  {
   "cell_type": "code",
   "execution_count": null,
   "metadata": {
    "scrolled": true
   },
   "outputs": [],
   "source": [
    "# crime severity index\n",
    "with open(dv_json) as f:\n",
    "    dv_dict = json.load(f)\n",
    "\n",
    "dvdf['crime_severity_c'] = dvdf['crime_category'].apply(lambda x: True if x in dv_dict['violent-crime'] else False)\n",
    "dvdf['crime_severity_t'] = dvdf['crime_type'].apply(lambda x: True if x in dv_dict['violent-crime'] else False)\n",
    "dvdf['crime_severity'] = dvdf.crime_severity_c | dvdf.crime_severity_t\n",
    "dvdf.drop(columns=['crime_severity_t', 'crime_severity_c'], inplace=True)\n",
    "dvdf['crime_severity'].replace([True, False], ['violent', 'non-violent'], inplace = True)"
   ]
  },
  {
   "cell_type": "code",
   "execution_count": null,
   "metadata": {},
   "outputs": [],
   "source": [
    "# is nighttime\n",
    "dvdf['is_nighttime'] = pd.DatetimeIndex(dvdf['first_occurrence_date']).hour\n",
    "dvdf['is_nighttime'] = dvdf['is_nighttime'].apply(lambda x: True if x >= 21 or x<=5 else False)"
   ]
  },
  {
   "cell_type": "code",
   "execution_count": null,
   "metadata": {},
   "outputs": [],
   "source": [
    "# is fatal\n",
    "dvdf['is_fatal_c'] = dvdf['crime_category'].apply(lambda x: True if x in dv_dict['fatal-crime'] else False)\n",
    "dvdf['is_fatal_t'] = dvdf['crime_type'].apply(lambda x: True if x in dv_dict['fatal-crime'] else False)\n",
    "dvdf['is_fatal'] = dvdf.is_fatal_c | dvdf.is_fatal_t\n",
    "dvdf.drop(columns=['is_fatal_c', 'is_fatal_t'], inplace=True)"
   ]
  },
  {
   "cell_type": "code",
   "execution_count": null,
   "metadata": {},
   "outputs": [],
   "source": [
    "dvdf.rename(columns={'first_occurrence_date': 'first_occurrence_datetime', \n",
    "                     'last_occurrence_date': 'last_occurrence_datetime',\n",
    "                    'reported_date': 'reported_datetime'}, inplace=True)\n",
    "\n",
    "# Fix empty last occr\n",
    "dvdf['last_occurrence_datetime'] = dvdf[['first_occurrence_datetime', 'last_occurrence_datetime']].apply(\n",
    "    lambda x: x.first_occurrence_datetime if pd.isnull(x.last_occurrence_datetime) else x.last_occurrence_datetime,\n",
    "axis=1)"
   ]
  },
  {
   "cell_type": "code",
   "execution_count": null,
   "metadata": {},
   "outputs": [],
   "source": [
    "# Split datetime to date and time\n",
    "\n",
    "dvdf['first_occurrence_date'] = pd.DatetimeIndex(dvdf['first_occurrence_datetime']).date\n",
    "dvdf['first_occurrence_time'] = pd.DatetimeIndex(dvdf['first_occurrence_datetime']).time\n",
    "\n",
    "dvdf['last_occurrence_date'] = pd.DatetimeIndex(dvdf['last_occurrence_datetime']).date\n",
    "dvdf['last_occurrence_time'] = pd.DatetimeIndex(dvdf['last_occurrence_datetime']).time\n",
    "\n",
    "dvdf['reported_date'] = pd.DatetimeIndex(dvdf['reported_datetime']).date\n",
    "dvdf['reported_time'] = pd.DatetimeIndex(dvdf['reported_datetime']).time\n",
    "\n",
    "dvdf.drop(columns=['first_occurrence_datetime', 'last_occurrence_datetime', 'reported_datetime'], inplace=True)"
   ]
  },
  {
   "cell_type": "code",
   "execution_count": null,
   "metadata": {
    "scrolled": false
   },
   "outputs": [],
   "source": [
    "dvdf.head()"
   ]
  },
  {
   "cell_type": "code",
   "execution_count": null,
   "metadata": {
    "scrolled": true
   },
   "outputs": [],
   "source": [
    "dvdf.columns"
   ]
  },
  {
   "cell_type": "code",
   "execution_count": null,
   "metadata": {},
   "outputs": [],
   "source": [
    "dvdf.to_csv('../out/'+'dv.csv', index=False)"
   ]
  }
 ],
 "metadata": {
  "kernelspec": {
   "display_name": "Python 3",
   "language": "python",
   "name": "python3"
  },
  "language_info": {
   "codemirror_mode": {
    "name": "ipython",
    "version": 3
   },
   "file_extension": ".py",
   "mimetype": "text/x-python",
   "name": "python",
   "nbconvert_exporter": "python",
   "pygments_lexer": "ipython3",
   "version": "3.7.4"
  }
 },
 "nbformat": 4,
 "nbformat_minor": 2
}
