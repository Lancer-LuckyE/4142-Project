{
 "cells": [
  {
   "cell_type": "code",
   "execution_count": 49,
   "metadata": {},
   "outputs": [],
   "source": [
    "import pandas as pd\n",
    "import numpy as np\n",
    "import holidays\n",
    "import json"
   ]
  },
  {
   "cell_type": "code",
   "execution_count": 50,
   "metadata": {},
   "outputs": [],
   "source": [
    "us_holidays = holidays.US()"
   ]
  },
  {
   "cell_type": "code",
   "execution_count": 51,
   "metadata": {},
   "outputs": [],
   "source": [
    "dv = '../data/denver_crime.csv'\n",
    "weather = '../data/selected_weather_data.csv'\n",
    "dv_json = '../data/denver_related.json'"
   ]
  },
  {
   "cell_type": "code",
   "execution_count": 52,
   "metadata": {},
   "outputs": [],
   "source": [
    "parse_dates = ['FIRST_OCCURRENCE_DATE', 'LAST_OCCURRENCE_DATE', 'REPORTED_DATE']\n",
    "useful_cols =['OFFENSE_TYPE_ID','OFFENSE_CATEGORY_ID', 'FIRST_OCCURRENCE_DATE', 'LAST_OCCURRENCE_DATE', 'REPORTED_DATE', \n",
    "            'INCIDENT_ADDRESS','GEO_LON','GEO_LAT', 'NEIGHBORHOOD_ID', 'IS_TRAFFIC']\n",
    "dvdf = pd.read_csv(dv, parse_dates=parse_dates, usecols=useful_cols)\n",
    "\n",
    "dvdf.columns = map(str.lower, dvdf.columns)\n",
    "dvdf.rename(columns={\"offense_type_id\": \"crime_type\", \"offense_category_id\": \"crime_category\",\n",
    "                    'geo_lon': 'longitude', 'geo_lat': 'latitude',\n",
    "                    'neighborhood_id': 'neighbourhood',\n",
    "                    'incident_address': 'address'}, inplace=True)"
   ]
  },
  {
   "cell_type": "code",
   "execution_count": 53,
   "metadata": {
    "scrolled": false
   },
   "outputs": [],
   "source": [
    "# Dealing with empty address\n",
    "dvdf['address'] = dvdf['address'].apply(lambda x: x if x is not np.nan else 'NOT APPLICABLE')"
   ]
  },
  {
   "cell_type": "code",
   "execution_count": 54,
   "metadata": {},
   "outputs": [],
   "source": [
    "# Empty lat/lon\n",
    "dvdf['latitude'] = dvdf['latitude'].apply(lambda x: x if not np.isnan(x) else 0)\n",
    "dvdf['longitude'] = dvdf['longitude'].apply(lambda x: x if not np.isnan(x) else 0)"
   ]
  },
  {
   "cell_type": "code",
   "execution_count": 55,
   "metadata": {},
   "outputs": [],
   "source": [
    "# Weather\n",
    "weather_df = pd.read_csv(weather, parse_dates = ['datetime'])\n",
    "dvdf['tmp'] = pd.DatetimeIndex(dvdf['first_occurrence_date']).round('H')\n",
    "dvdf['city']= 'Denver'\n",
    "dvdf = dvdf.merge(weather_df, left_on=['city', 'tmp'], right_on =['city_name', 'datetime'], how='left')\n",
    "dvdf.drop(columns=['tmp', 'datetime', 'city_name'], inplace=True)"
   ]
  },
  {
   "cell_type": "code",
   "execution_count": 56,
   "metadata": {},
   "outputs": [],
   "source": [
    "# Crime rate\n",
    "# 2723000 is the average population from 2015 to 2020\n",
    "dvdf['crime_rate'] = (len(dvdf.index) / 6) * (10000 / 2723000)"
   ]
  },
  {
   "cell_type": "code",
   "execution_count": 57,
   "metadata": {},
   "outputs": [],
   "source": [
    "dvdf['crime_date'] = pd.DatetimeIndex(dvdf['first_occurrence_date']).date\n",
    "dvdf['day_of_week'] = pd.DatetimeIndex(dvdf['first_occurrence_date']).dayofweek\n",
    "dvdf['week_of_year'] = pd.DatetimeIndex(dvdf['first_occurrence_date']).week\n",
    "dvdf['quarter'] = pd.DatetimeIndex(dvdf['first_occurrence_date']).quarter\n",
    "\n",
    "# holiday\n",
    "weekend = pd.DataFrame({'day_of_week':[0,1,2,3,4,5,6],'weekend':[False,False,False,False,False,True,True]})\n",
    "dvdf = dvdf.merge(weekend, how='left', left_on=['day_of_week'], right_on = ['day_of_week'])\n",
    "dvdf['holiday'] = dvdf['crime_date'].apply(lambda x: us_holidays.get(x) is not None)\n",
    "dvdf['holiday_name'] = dvdf['crime_date'].apply(lambda x: 'NOT APPLICABLE' if us_holidays.get(x) is None else us_holidays.get(x))"
   ]
  },
  {
   "cell_type": "code",
   "execution_count": 58,
   "metadata": {
    "scrolled": true
   },
   "outputs": [],
   "source": [
    "# crime severity index\n",
    "with open(dv_json) as f:\n",
    "    dv_dict = json.load(f)\n",
    "\n",
    "dvdf['crime_severity_c'] = dvdf['crime_category'].apply(lambda x: True if x in dv_dict['violent-crime'] else False)\n",
    "dvdf['crime_severity_t'] = dvdf['crime_type'].apply(lambda x: True if x in dv_dict['violent-crime'] else False)\n",
    "dvdf['crime_severity'] = dvdf.crime_severity_c | dvdf.crime_severity_t\n",
    "dvdf.drop(columns=['crime_severity_t', 'crime_severity_c'], inplace=True)\n",
    "dvdf['crime_severity'].replace([True, False], ['violent', 'non-violent'], inplace = True)"
   ]
  },
  {
   "cell_type": "code",
   "execution_count": 59,
   "metadata": {},
   "outputs": [],
   "source": [
    "# is nighttime\n",
    "dvdf['is_nighttime'] = pd.DatetimeIndex(dvdf['first_occurrence_date']).hour\n",
    "dvdf['is_nighttime'] = dvdf['is_nighttime'].apply(lambda x: True if x >= 21 or x<=5 else False)"
   ]
  },
  {
   "cell_type": "code",
   "execution_count": 60,
   "metadata": {},
   "outputs": [],
   "source": [
    "# is fatal\n",
    "dvdf['is_fatal_c'] = dvdf['crime_category'].apply(lambda x: True if x in dv_dict['fatal-crime'] else False)\n",
    "dvdf['is_fatal_t'] = dvdf['crime_type'].apply(lambda x: True if x in dv_dict['fatal-crime'] else False)\n",
    "dvdf['is_fatal'] = dvdf.is_fatal_c | dvdf.is_fatal_t\n",
    "dvdf.drop(columns=['is_fatal_c', 'is_fatal_t'], inplace=True)"
   ]
  },
  {
   "cell_type": "code",
   "execution_count": 61,
   "metadata": {},
   "outputs": [],
   "source": [
    "dvdf.rename(columns={'first_occurrence_date': 'first_occurrence_datetime', \n",
    "                     'last_occurrence_date': 'last_occurrence_datetime',\n",
    "                    'reported_date': 'reported_datetime'}, inplace=True)\n",
    "\n",
    "# Fix empty last occr\n",
    "dvdf['last_occurrence_datetime'] = dvdf[['first_occurrence_datetime', 'last_occurrence_datetime']].apply(\n",
    "    lambda x: x.first_occurrence_datetime if pd.isnull(x.last_occurrence_datetime) else x.last_occurrence_datetime,\n",
    "axis=1)"
   ]
  },
  {
   "cell_type": "code",
   "execution_count": 62,
   "metadata": {},
   "outputs": [],
   "source": [
    "# Split datetime to date and time\n",
    "\n",
    "dvdf['first_occurrence_date'] = pd.DatetimeIndex(dvdf['first_occurrence_datetime']).date\n",
    "dvdf['first_occurrence_time'] = pd.DatetimeIndex(dvdf['first_occurrence_datetime']).time\n",
    "\n",
    "dvdf['last_occurrence_date'] = pd.DatetimeIndex(dvdf['last_occurrence_datetime']).date\n",
    "dvdf['last_occurrence_time'] = pd.DatetimeIndex(dvdf['last_occurrence_datetime']).time\n",
    "\n",
    "dvdf['reported_date'] = pd.DatetimeIndex(dvdf['reported_datetime']).date\n",
    "dvdf['reported_time'] = pd.DatetimeIndex(dvdf['reported_datetime']).time\n",
    "\n",
    "dvdf.drop(columns=['first_occurrence_datetime', 'last_occurrence_datetime', 'reported_datetime'], inplace=True)"
   ]
  },
  {
   "cell_type": "code",
   "execution_count": 63,
   "metadata": {},
   "outputs": [],
   "source": [
    "# is_traffic\n",
    "dvdf['is_traffic'] = dvdf.apply(lambda x: True if x.is_traffic==1 else False,axis=1)"
   ]
  },
  {
   "cell_type": "code",
   "execution_count": 64,
   "metadata": {
    "scrolled": false
   },
   "outputs": [
    {
     "data": {
      "text/html": [
       "<div>\n",
       "<style scoped>\n",
       "    .dataframe tbody tr th:only-of-type {\n",
       "        vertical-align: middle;\n",
       "    }\n",
       "\n",
       "    .dataframe tbody tr th {\n",
       "        vertical-align: top;\n",
       "    }\n",
       "\n",
       "    .dataframe thead th {\n",
       "        text-align: right;\n",
       "    }\n",
       "</style>\n",
       "<table border=\"1\" class=\"dataframe\">\n",
       "  <thead>\n",
       "    <tr style=\"text-align: right;\">\n",
       "      <th></th>\n",
       "      <th>crime_type</th>\n",
       "      <th>crime_category</th>\n",
       "      <th>address</th>\n",
       "      <th>longitude</th>\n",
       "      <th>latitude</th>\n",
       "      <th>neighbourhood</th>\n",
       "      <th>is_traffic</th>\n",
       "      <th>city</th>\n",
       "      <th>temperature</th>\n",
       "      <th>humidity</th>\n",
       "      <th>...</th>\n",
       "      <th>holiday_name</th>\n",
       "      <th>crime_severity</th>\n",
       "      <th>is_nighttime</th>\n",
       "      <th>is_fatal</th>\n",
       "      <th>first_occurrence_date</th>\n",
       "      <th>first_occurrence_time</th>\n",
       "      <th>last_occurrence_date</th>\n",
       "      <th>last_occurrence_time</th>\n",
       "      <th>reported_date</th>\n",
       "      <th>reported_time</th>\n",
       "    </tr>\n",
       "  </thead>\n",
       "  <tbody>\n",
       "    <tr>\n",
       "      <td>0</td>\n",
       "      <td>weapon-unlawful-discharge-of</td>\n",
       "      <td>all-other-crimes</td>\n",
       "      <td>NOT APPLICABLE</td>\n",
       "      <td>-104.809881</td>\n",
       "      <td>39.773188</td>\n",
       "      <td>montbello</td>\n",
       "      <td>False</td>\n",
       "      <td>Denver</td>\n",
       "      <td>32.05</td>\n",
       "      <td>18</td>\n",
       "      <td>...</td>\n",
       "      <td>NOT APPLICABLE</td>\n",
       "      <td>non-violent</td>\n",
       "      <td>True</td>\n",
       "      <td>False</td>\n",
       "      <td>2016-06-15</td>\n",
       "      <td>23:31:00</td>\n",
       "      <td>2016-06-15</td>\n",
       "      <td>23:31:00</td>\n",
       "      <td>2016-06-15</td>\n",
       "      <td>23:31:00</td>\n",
       "    </tr>\n",
       "    <tr>\n",
       "      <td>1</td>\n",
       "      <td>theft-other</td>\n",
       "      <td>larceny</td>\n",
       "      <td>NOT APPLICABLE</td>\n",
       "      <td>-104.781434</td>\n",
       "      <td>39.785649</td>\n",
       "      <td>gateway-green-valley-ranch</td>\n",
       "      <td>False</td>\n",
       "      <td>Denver</td>\n",
       "      <td>4.87</td>\n",
       "      <td>55</td>\n",
       "      <td>...</td>\n",
       "      <td>NOT APPLICABLE</td>\n",
       "      <td>non-violent</td>\n",
       "      <td>False</td>\n",
       "      <td>False</td>\n",
       "      <td>2017-10-11</td>\n",
       "      <td>12:30:00</td>\n",
       "      <td>2017-10-11</td>\n",
       "      <td>16:55:00</td>\n",
       "      <td>2018-01-29</td>\n",
       "      <td>17:53:00</td>\n",
       "    </tr>\n",
       "    <tr>\n",
       "      <td>2</td>\n",
       "      <td>theft-items-from-vehicle</td>\n",
       "      <td>theft-from-motor-vehicle</td>\n",
       "      <td>2932 S JOSEPHINE ST</td>\n",
       "      <td>-104.957381</td>\n",
       "      <td>39.663490</td>\n",
       "      <td>wellshire</td>\n",
       "      <td>False</td>\n",
       "      <td>Denver</td>\n",
       "      <td>13.28</td>\n",
       "      <td>28</td>\n",
       "      <td>...</td>\n",
       "      <td>NOT APPLICABLE</td>\n",
       "      <td>non-violent</td>\n",
       "      <td>False</td>\n",
       "      <td>False</td>\n",
       "      <td>2016-03-04</td>\n",
       "      <td>20:00:00</td>\n",
       "      <td>2016-04-25</td>\n",
       "      <td>08:00:00</td>\n",
       "      <td>2016-04-26</td>\n",
       "      <td>21:02:00</td>\n",
       "    </tr>\n",
       "    <tr>\n",
       "      <td>3</td>\n",
       "      <td>theft-other</td>\n",
       "      <td>larceny</td>\n",
       "      <td>705 S COLORADO BLVD</td>\n",
       "      <td>-104.941440</td>\n",
       "      <td>39.702698</td>\n",
       "      <td>belcaro</td>\n",
       "      <td>False</td>\n",
       "      <td>Denver</td>\n",
       "      <td>14.38</td>\n",
       "      <td>14</td>\n",
       "      <td>...</td>\n",
       "      <td>NOT APPLICABLE</td>\n",
       "      <td>non-violent</td>\n",
       "      <td>False</td>\n",
       "      <td>False</td>\n",
       "      <td>2018-01-30</td>\n",
       "      <td>19:20:00</td>\n",
       "      <td>2018-01-30</td>\n",
       "      <td>19:20:00</td>\n",
       "      <td>2018-01-30</td>\n",
       "      <td>22:29:00</td>\n",
       "    </tr>\n",
       "    <tr>\n",
       "      <td>4</td>\n",
       "      <td>theft-shoplift</td>\n",
       "      <td>larceny</td>\n",
       "      <td>2810 E 1ST AVE</td>\n",
       "      <td>-104.955370</td>\n",
       "      <td>39.717107</td>\n",
       "      <td>cherry-creek</td>\n",
       "      <td>False</td>\n",
       "      <td>Denver</td>\n",
       "      <td>26.59</td>\n",
       "      <td>30</td>\n",
       "      <td>...</td>\n",
       "      <td>NOT APPLICABLE</td>\n",
       "      <td>non-violent</td>\n",
       "      <td>False</td>\n",
       "      <td>False</td>\n",
       "      <td>2017-06-22</td>\n",
       "      <td>20:53:00</td>\n",
       "      <td>2017-06-22</td>\n",
       "      <td>20:53:00</td>\n",
       "      <td>2017-06-23</td>\n",
       "      <td>16:09:00</td>\n",
       "    </tr>\n",
       "  </tbody>\n",
       "</table>\n",
       "<p>5 rows × 29 columns</p>\n",
       "</div>"
      ],
      "text/plain": [
       "                     crime_type            crime_category  \\\n",
       "0  weapon-unlawful-discharge-of          all-other-crimes   \n",
       "1                   theft-other                   larceny   \n",
       "2      theft-items-from-vehicle  theft-from-motor-vehicle   \n",
       "3                   theft-other                   larceny   \n",
       "4                theft-shoplift                   larceny   \n",
       "\n",
       "               address   longitude   latitude               neighbourhood  \\\n",
       "0       NOT APPLICABLE -104.809881  39.773188                   montbello   \n",
       "1       NOT APPLICABLE -104.781434  39.785649  gateway-green-valley-ranch   \n",
       "2  2932 S JOSEPHINE ST -104.957381  39.663490                   wellshire   \n",
       "3  705 S COLORADO BLVD -104.941440  39.702698                     belcaro   \n",
       "4       2810 E 1ST AVE -104.955370  39.717107                cherry-creek   \n",
       "\n",
       "   is_traffic    city  temperature  humidity  ...    holiday_name  \\\n",
       "0       False  Denver        32.05        18  ...  NOT APPLICABLE   \n",
       "1       False  Denver         4.87        55  ...  NOT APPLICABLE   \n",
       "2       False  Denver        13.28        28  ...  NOT APPLICABLE   \n",
       "3       False  Denver        14.38        14  ...  NOT APPLICABLE   \n",
       "4       False  Denver        26.59        30  ...  NOT APPLICABLE   \n",
       "\n",
       "  crime_severity  is_nighttime is_fatal  first_occurrence_date  \\\n",
       "0    non-violent          True    False             2016-06-15   \n",
       "1    non-violent         False    False             2017-10-11   \n",
       "2    non-violent         False    False             2016-03-04   \n",
       "3    non-violent         False    False             2018-01-30   \n",
       "4    non-violent         False    False             2017-06-22   \n",
       "\n",
       "   first_occurrence_time  last_occurrence_date  last_occurrence_time  \\\n",
       "0               23:31:00            2016-06-15              23:31:00   \n",
       "1               12:30:00            2017-10-11              16:55:00   \n",
       "2               20:00:00            2016-04-25              08:00:00   \n",
       "3               19:20:00            2018-01-30              19:20:00   \n",
       "4               20:53:00            2017-06-22              20:53:00   \n",
       "\n",
       "   reported_date reported_time  \n",
       "0     2016-06-15      23:31:00  \n",
       "1     2018-01-29      17:53:00  \n",
       "2     2016-04-26      21:02:00  \n",
       "3     2018-01-30      22:29:00  \n",
       "4     2017-06-23      16:09:00  \n",
       "\n",
       "[5 rows x 29 columns]"
      ]
     },
     "execution_count": 64,
     "metadata": {},
     "output_type": "execute_result"
    }
   ],
   "source": [
    "dvdf.head()"
   ]
  },
  {
   "cell_type": "code",
   "execution_count": 65,
   "metadata": {
    "scrolled": true
   },
   "outputs": [
    {
     "data": {
      "text/plain": [
       "Index(['crime_type', 'crime_category', 'address', 'longitude', 'latitude',\n",
       "       'neighbourhood', 'is_traffic', 'city', 'temperature', 'humidity',\n",
       "       'weather_main', 'weather_description', 'crime_rate', 'crime_date',\n",
       "       'day_of_week', 'week_of_year', 'quarter', 'weekend', 'holiday',\n",
       "       'holiday_name', 'crime_severity', 'is_nighttime', 'is_fatal',\n",
       "       'first_occurrence_date', 'first_occurrence_time',\n",
       "       'last_occurrence_date', 'last_occurrence_time', 'reported_date',\n",
       "       'reported_time'],\n",
       "      dtype='object')"
      ]
     },
     "execution_count": 65,
     "metadata": {},
     "output_type": "execute_result"
    }
   ],
   "source": [
    "dvdf.columns"
   ]
  },
  {
   "cell_type": "code",
   "execution_count": 66,
   "metadata": {},
   "outputs": [],
   "source": [
    "dvdf.to_csv('../out/'+'dv.csv', index=False)"
   ]
  }
 ],
 "metadata": {
  "kernelspec": {
   "display_name": "Python 3",
   "language": "python",
   "name": "python3"
  },
  "language_info": {
   "codemirror_mode": {
    "name": "ipython",
    "version": 3
   },
   "file_extension": ".py",
   "mimetype": "text/x-python",
   "name": "python",
   "nbconvert_exporter": "python",
   "pygments_lexer": "ipython3",
   "version": "3.7.4"
  }
 },
 "nbformat": 4,
 "nbformat_minor": 2
}
